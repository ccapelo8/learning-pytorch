{
  "nbformat": 4,
  "nbformat_minor": 0,
  "metadata": {
    "colab": {
      "provenance": [],
      "toc_visible": true,
      "gpuType": "T4",
      "authorship_tag": "ABX9TyPJw3E7bBJ3JRwsfMRzwC4R",
      "include_colab_link": true
    },
    "kernelspec": {
      "name": "python3",
      "display_name": "Python 3"
    },
    "language_info": {
      "name": "python"
    },
    "accelerator": "GPU"
  },
  "cells": [
    {
      "cell_type": "markdown",
      "metadata": {
        "id": "view-in-github",
        "colab_type": "text"
      },
      "source": [
        "<a href=\"https://colab.research.google.com/github/ccapelo8/learning-pytorch/blob/main/Pytorch_by_freeCodeCamp_Chapters_0_%26_1.ipynb\" target=\"_parent\"><img src=\"https://colab.research.google.com/assets/colab-badge.svg\" alt=\"Open In Colab\"/></a>"
      ]
    },
    {
      "cell_type": "markdown",
      "source": [
        "Disclaimer: This is just what I've deemed useful form the Pytorch by freeCodeCamp course, for the whole resource check [Youtube link](https://www.youtube.com/watch?v=V_xro1bcAuA)"
      ],
      "metadata": {
        "id": "vLOzkVFoU4OL"
      }
    },
    {
      "cell_type": "markdown",
      "source": [
        "#CHAPTER 0"
      ],
      "metadata": {
        "id": "E82TIyAwv5iJ"
      }
    },
    {
      "cell_type": "markdown",
      "source": [
        "# **25. Reshaping, viewing and stacking**"
      ],
      "metadata": {
        "id": "OsgX_zGahqtE"
      }
    },
    {
      "cell_type": "code",
      "source": [
        "import torch\n",
        "\n",
        "x = torch.arange(1.,10.)\n",
        "x, x.shape"
      ],
      "metadata": {
        "id": "6zPyH7c_hdPq",
        "colab": {
          "base_uri": "https://localhost:8080/"
        },
        "outputId": "25549c40-0743-4cd5-b2ef-0fb50771d2cb"
      },
      "execution_count": 1,
      "outputs": [
        {
          "output_type": "execute_result",
          "data": {
            "text/plain": [
              "(tensor([1., 2., 3., 4., 5., 6., 7., 8., 9.]), torch.Size([9]))"
            ]
          },
          "metadata": {},
          "execution_count": 1
        }
      ]
    },
    {
      "cell_type": "markdown",
      "source": [
        "RESHAPE, add an extra dimension"
      ],
      "metadata": {
        "id": "WA6gQN-sC_gm"
      }
    },
    {
      "cell_type": "code",
      "source": [
        "x_reshaped = x.reshape(1, 9)\n",
        "x_reshaped, x_reshaped.shape"
      ],
      "metadata": {
        "id": "N3_x-NLhDDVn",
        "colab": {
          "base_uri": "https://localhost:8080/"
        },
        "outputId": "876bbfc6-3ba9-47aa-80be-38e240b00a9c"
      },
      "execution_count": 2,
      "outputs": [
        {
          "output_type": "execute_result",
          "data": {
            "text/plain": [
              "(tensor([[1., 2., 3., 4., 5., 6., 7., 8., 9.]]), torch.Size([1, 9]))"
            ]
          },
          "metadata": {},
          "execution_count": 2
        }
      ]
    },
    {
      "cell_type": "markdown",
      "source": [
        "Change the VIEW"
      ],
      "metadata": {
        "id": "T9ysYI0Ea2iK"
      }
    },
    {
      "cell_type": "code",
      "source": [
        "z = x.view(1,9)\n",
        "z,x,z.shape"
      ],
      "metadata": {
        "colab": {
          "base_uri": "https://localhost:8080/"
        },
        "id": "3I15vBW_bU2l",
        "outputId": "b3490591-1de8-40bd-b385-a3dc911d990f"
      },
      "execution_count": 3,
      "outputs": [
        {
          "output_type": "execute_result",
          "data": {
            "text/plain": [
              "(tensor([[1., 2., 3., 4., 5., 6., 7., 8., 9.]]),\n",
              " tensor([1., 2., 3., 4., 5., 6., 7., 8., 9.]),\n",
              " torch.Size([1, 9]))"
            ]
          },
          "metadata": {},
          "execution_count": 3
        }
      ]
    },
    {
      "cell_type": "markdown",
      "source": [
        "If we change z, x changes because they share the same memory"
      ],
      "metadata": {
        "id": "Pqs98aFHbnhT"
      }
    },
    {
      "cell_type": "code",
      "source": [
        "z = x.view(1,9)\n",
        "z[:,0] = 8\n",
        "z,x"
      ],
      "metadata": {
        "colab": {
          "base_uri": "https://localhost:8080/"
        },
        "id": "OuR5T7EKbyHM",
        "outputId": "37f2ff85-cdaa-48be-dc11-21fb40b870e6"
      },
      "execution_count": 4,
      "outputs": [
        {
          "output_type": "execute_result",
          "data": {
            "text/plain": [
              "(tensor([[8., 2., 3., 4., 5., 6., 7., 8., 9.]]),\n",
              " tensor([8., 2., 3., 4., 5., 6., 7., 8., 9.]))"
            ]
          },
          "metadata": {},
          "execution_count": 4
        }
      ]
    },
    {
      "cell_type": "markdown",
      "source": [
        "Stack tensors on top of each other"
      ],
      "metadata": {
        "id": "Ob7ucR6PcGUF"
      }
    },
    {
      "cell_type": "code",
      "source": [
        "x_stacked = torch.stack([x,x,x,x], dim = 0)\n",
        "print(x_stacked)\n",
        "\n",
        "x_stacked = torch.stack([x,x,x,x], dim = 1)\n",
        "print(x_stacked)"
      ],
      "metadata": {
        "colab": {
          "base_uri": "https://localhost:8080/"
        },
        "id": "nbh-rYYJcJxY",
        "outputId": "54ca2f7e-bbb6-449b-f08e-3e66dfeae508"
      },
      "execution_count": 5,
      "outputs": [
        {
          "output_type": "stream",
          "name": "stdout",
          "text": [
            "tensor([[8., 2., 3., 4., 5., 6., 7., 8., 9.],\n",
            "        [8., 2., 3., 4., 5., 6., 7., 8., 9.],\n",
            "        [8., 2., 3., 4., 5., 6., 7., 8., 9.],\n",
            "        [8., 2., 3., 4., 5., 6., 7., 8., 9.]])\n",
            "tensor([[8., 8., 8., 8.],\n",
            "        [2., 2., 2., 2.],\n",
            "        [3., 3., 3., 3.],\n",
            "        [4., 4., 4., 4.],\n",
            "        [5., 5., 5., 5.],\n",
            "        [6., 6., 6., 6.],\n",
            "        [7., 7., 7., 7.],\n",
            "        [8., 8., 8., 8.],\n",
            "        [9., 9., 9., 9.]])\n"
          ]
        }
      ]
    },
    {
      "cell_type": "markdown",
      "source": [
        "There's also hstack and vstack which work a bit different."
      ],
      "metadata": {
        "id": "5fD9KVHLcNxk"
      }
    },
    {
      "cell_type": "markdown",
      "source": [
        "# **26. Squeezing, unsqueezing and permuting**"
      ],
      "metadata": {
        "id": "BLyCZZLw0rD3"
      }
    },
    {
      "cell_type": "markdown",
      "source": [
        "Squeezing: removing all single dimensions from a target tensor"
      ],
      "metadata": {
        "id": "tjXSVmXV1S_Q"
      }
    },
    {
      "cell_type": "code",
      "source": [
        "print(f\"Previous tensor: {x_reshaped}\")\n",
        "print(f\"Previous shape: {x_reshaped.shape}\")\n",
        "\n",
        "#Remove extra dimension from x_reshaped\n",
        "x_squeezed = x_reshaped.squeeze()\n",
        "print(f\"\\nNew tensor: {x_squeezed}\")\n",
        "print(f\"New Shape: {x_squeezed.shape}\")"
      ],
      "metadata": {
        "colab": {
          "base_uri": "https://localhost:8080/"
        },
        "id": "vQu6Vh8d1Dnb",
        "outputId": "4dce05dd-0ae0-4561-b622-1ca4d85e72d4"
      },
      "execution_count": 6,
      "outputs": [
        {
          "output_type": "stream",
          "name": "stdout",
          "text": [
            "Previous tensor: tensor([[8., 2., 3., 4., 5., 6., 7., 8., 9.]])\n",
            "Previous shape: torch.Size([1, 9])\n",
            "\n",
            "New tensor: tensor([8., 2., 3., 4., 5., 6., 7., 8., 9.])\n",
            "New Shape: torch.Size([9])\n"
          ]
        }
      ]
    },
    {
      "cell_type": "code",
      "source": [
        "print(f\"Previous target: {x_squeezed}\")\n",
        "print(f\"Previous shape: {x_squeezed.shape}\")\n",
        "\n",
        "#Adding an extra dim\n",
        "\n",
        "x_unsqueezed = x_squeezed.unsqueeze(dim=0)\n",
        "print(f\"\\nNew tensor : {x_unsqueezed}\")\n",
        "print(f\"New shape: {x_unsqueezed.shape}\")"
      ],
      "metadata": {
        "colab": {
          "base_uri": "https://localhost:8080/"
        },
        "id": "Ks5Bzf6v2Ms7",
        "outputId": "3db140a5-3be8-4e4c-829c-491555cfbbbf"
      },
      "execution_count": 7,
      "outputs": [
        {
          "output_type": "stream",
          "name": "stdout",
          "text": [
            "Previous target: tensor([8., 2., 3., 4., 5., 6., 7., 8., 9.])\n",
            "Previous shape: torch.Size([9])\n",
            "\n",
            "New tensor : tensor([[8., 2., 3., 4., 5., 6., 7., 8., 9.]])\n",
            "New shape: torch.Size([1, 9])\n"
          ]
        }
      ]
    },
    {
      "cell_type": "code",
      "source": [
        "x_reshaped.squeeze().shape"
      ],
      "metadata": {
        "colab": {
          "base_uri": "https://localhost:8080/"
        },
        "id": "_REMsEVn2Njq",
        "outputId": "c1a99a99-cba0-4c2b-b7d9-58333776dd07"
      },
      "execution_count": 8,
      "outputs": [
        {
          "output_type": "execute_result",
          "data": {
            "text/plain": [
              "torch.Size([9])"
            ]
          },
          "metadata": {},
          "execution_count": 8
        }
      ]
    },
    {
      "cell_type": "markdown",
      "source": [
        "Permute, rearranges dims of a target tensor in a specified order"
      ],
      "metadata": {
        "id": "ArV1XOgo4HpF"
      }
    },
    {
      "cell_type": "code",
      "source": [
        "x_original = torch.rand(size = (224,224,3)) # An image (height, width and rgb)\n",
        "\n",
        "#Permute the original tensor\n",
        "\n",
        "x_permuted = x_original.permute(2,0,1)\n",
        "\n",
        "print(f\"Previous shape:{x_original.shape}\")\n",
        "print(f\"New shape:{x_permuted.shape}\")\n"
      ],
      "metadata": {
        "colab": {
          "base_uri": "https://localhost:8080/"
        },
        "id": "IxGXyBT84POl",
        "outputId": "dff9df26-8b27-4350-c663-46318db09e78"
      },
      "execution_count": 9,
      "outputs": [
        {
          "output_type": "stream",
          "name": "stdout",
          "text": [
            "Previous shape:torch.Size([224, 224, 3])\n",
            "New shape:torch.Size([3, 224, 224])\n"
          ]
        }
      ]
    },
    {
      "cell_type": "markdown",
      "source": [
        "#**29. Reproducibility**"
      ],
      "metadata": {
        "id": "JKFgDTYS5nz_"
      }
    },
    {
      "cell_type": "markdown",
      "source": [
        "Taking the random out of random\n",
        "\n",
        "To reduce the randomness in NN and Pytorch -> random seed\n",
        "\n",
        "Random seed: it \"flavours\" the randomness\n",
        "\n"
      ],
      "metadata": {
        "id": "EitH-_vE5tDH"
      }
    },
    {
      "cell_type": "code",
      "source": [
        "random_tensor_A = torch.rand(3,4)\n",
        "random_tensor_B = torch.rand(3,4)\n",
        "\n",
        "print(random_tensor_A)\n",
        "print(random_tensor_B)\n",
        "print(random_tensor_A == random_tensor_B)"
      ],
      "metadata": {
        "colab": {
          "base_uri": "https://localhost:8080/"
        },
        "id": "3P9vNFjv6CAq",
        "outputId": "532e1b45-01db-4f29-b18b-4c506493d2c4"
      },
      "execution_count": 10,
      "outputs": [
        {
          "output_type": "stream",
          "name": "stdout",
          "text": [
            "tensor([[0.0481, 0.7582, 0.7013, 0.0051],\n",
            "        [0.5165, 0.7257, 0.0130, 0.3200],\n",
            "        [0.9624, 0.3326, 0.7050, 0.9786]])\n",
            "tensor([[0.5159, 0.2421, 0.3632, 0.7913],\n",
            "        [0.7377, 0.6967, 0.0444, 0.1633],\n",
            "        [0.1787, 0.3742, 0.5926, 0.0536]])\n",
            "tensor([[False, False, False, False],\n",
            "        [False, False, False, False],\n",
            "        [False, False, False, False]])\n"
          ]
        }
      ]
    },
    {
      "cell_type": "markdown",
      "source": [
        "Setting the random seed"
      ],
      "metadata": {
        "id": "ut3M6Txu7E8A"
      }
    },
    {
      "cell_type": "code",
      "source": [
        "RANDOM_SEED = 42\n",
        "\n",
        "torch.manual_seed(RANDOM_SEED)\n",
        "random_tensor_C = torch.rand(3,4)\n",
        "\n",
        "torch.manual_seed(RANDOM_SEED)\n",
        "random_tensor_D = torch.rand(3,4)\n",
        "\n",
        "print(random_tensor_C)\n",
        "print(random_tensor_D)\n",
        "print(random_tensor_C == random_tensor_D)"
      ],
      "metadata": {
        "colab": {
          "base_uri": "https://localhost:8080/"
        },
        "id": "-rCYaVdI6_6t",
        "outputId": "72b0324b-ed59-414b-9b18-00563d1bc6b6"
      },
      "execution_count": 11,
      "outputs": [
        {
          "output_type": "stream",
          "name": "stdout",
          "text": [
            "tensor([[0.8823, 0.9150, 0.3829, 0.9593],\n",
            "        [0.3904, 0.6009, 0.2566, 0.7936],\n",
            "        [0.9408, 0.1332, 0.9346, 0.5936]])\n",
            "tensor([[0.8823, 0.9150, 0.3829, 0.9593],\n",
            "        [0.3904, 0.6009, 0.2566, 0.7936],\n",
            "        [0.9408, 0.1332, 0.9346, 0.5936]])\n",
            "tensor([[True, True, True, True],\n",
            "        [True, True, True, True],\n",
            "        [True, True, True, True]])\n"
          ]
        }
      ]
    },
    {
      "cell_type": "markdown",
      "source": [
        "#CHAPTER 1"
      ],
      "metadata": {
        "id": "TFpkbZeVvtiP"
      }
    },
    {
      "cell_type": "markdown",
      "source": [
        "#**35.Creating a datasheet with linear regression**"
      ],
      "metadata": {
        "id": "pjLBWm5DmWN9"
      }
    },
    {
      "cell_type": "markdown",
      "source": [
        "Remember linear regression is a model such as Y = a + bX,\n",
        "where **a is the intercept** and **b is the slope** (gradient)"
      ],
      "metadata": {
        "id": "-ZazFY9Bqmsi"
      }
    },
    {
      "cell_type": "code",
      "source": [
        "import torch\n",
        "from torch import nn\n",
        "import matplotlib.pyplot as plt\n",
        "\n",
        "weight = 0.7 # value of B\n",
        "bias = 0.3   # value of A\n",
        "\n",
        "start = 0\n",
        "end = 1\n",
        "step = 0.02\n",
        "X = torch.arange(start,end,step).unsqueeze(dim = 1)\n",
        "y = weight * X + bias\n",
        "\n",
        "X[:10], y[:10]"
      ],
      "metadata": {
        "colab": {
          "base_uri": "https://localhost:8080/"
        },
        "id": "pTJIeoJyqDeo",
        "outputId": "19ca7abb-55f1-48af-f192-19d61b1b2a18"
      },
      "execution_count": 12,
      "outputs": [
        {
          "output_type": "execute_result",
          "data": {
            "text/plain": [
              "(tensor([[0.0000],\n",
              "         [0.0200],\n",
              "         [0.0400],\n",
              "         [0.0600],\n",
              "         [0.0800],\n",
              "         [0.1000],\n",
              "         [0.1200],\n",
              "         [0.1400],\n",
              "         [0.1600],\n",
              "         [0.1800]]),\n",
              " tensor([[0.3000],\n",
              "         [0.3140],\n",
              "         [0.3280],\n",
              "         [0.3420],\n",
              "         [0.3560],\n",
              "         [0.3700],\n",
              "         [0.3840],\n",
              "         [0.3980],\n",
              "         [0.4120],\n",
              "         [0.4260]]))"
            ]
          },
          "metadata": {},
          "execution_count": 12
        }
      ]
    },
    {
      "cell_type": "code",
      "source": [
        "len(X), len(y)"
      ],
      "metadata": {
        "colab": {
          "base_uri": "https://localhost:8080/"
        },
        "id": "JBZQa0Fzr152",
        "outputId": "c17be92b-dd84-4ccf-ed00-62caf985aec7"
      },
      "execution_count": 13,
      "outputs": [
        {
          "output_type": "execute_result",
          "data": {
            "text/plain": [
              "(50, 50)"
            ]
          },
          "metadata": {},
          "execution_count": 13
        }
      ]
    },
    {
      "cell_type": "markdown",
      "source": [
        "#**36.Creating training and test sets**"
      ],
      "metadata": {
        "id": "StIbBAn4sP0U"
      }
    },
    {
      "cell_type": "markdown",
      "source": [
        "3 datasheets:\n",
        "\n",
        "> Training set (60%-80% of the data)\n",
        "\n",
        "> Validation set (10%-20%) [not always used]\n",
        "\n",
        "> Test set (10%-20%)"
      ],
      "metadata": {
        "id": "Ic5nDpFws2vN"
      }
    },
    {
      "cell_type": "code",
      "source": [
        "train_split = int(0.8*len(X))\n",
        "X_train, y_train = X[:train_split], y[:train_split]\n",
        "X_test, y_test = X[train_split:], y[train_split:]\n",
        "\n",
        "len(X_train), len(X_test)"
      ],
      "metadata": {
        "colab": {
          "base_uri": "https://localhost:8080/"
        },
        "id": "4y3GYFTTuQrM",
        "outputId": "55dad5c2-6e62-4fa3-9a4a-94174d4de089"
      },
      "execution_count": 14,
      "outputs": [
        {
          "output_type": "execute_result",
          "data": {
            "text/plain": [
              "(40, 10)"
            ]
          },
          "metadata": {},
          "execution_count": 14
        }
      ]
    },
    {
      "cell_type": "markdown",
      "source": [
        "#**37.Building a function to visualize our data**"
      ],
      "metadata": {
        "id": "kTvjlNMcuyT2"
      }
    },
    {
      "cell_type": "code",
      "source": [
        "def plot_predictions(train_data = X_train,\n",
        "                     train_labels = y_train,\n",
        "                     test_data = X_test,\n",
        "                     test_labels = y_test,\n",
        "                     predictions = None):\n",
        "  plt.figure(figsize= (10,7))\n",
        "\n",
        "  #Plot training data in blue\n",
        "  plt.scatter(train_data, train_labels, c=\"b\", s= 4, label =\"Training data\")\n",
        "\n",
        "  #Plot test data in green\n",
        "  plt.scatter(train_data, train_labels, c=\"g\", s= 4, label =\"Testing data\")\n",
        "\n",
        "  if predictions is not None:\n",
        "    plt.scatter(test_data, predictions, c=\"r\",s = 4, label = \"Predictions\")\n",
        "\n",
        "  plt.legend(prop={\"size\": 14});\n"
      ],
      "metadata": {
        "id": "mJ6wIXvFvDwZ"
      },
      "execution_count": 15,
      "outputs": []
    },
    {
      "cell_type": "code",
      "source": [
        "plot_predictions();"
      ],
      "metadata": {
        "colab": {
          "base_uri": "https://localhost:8080/",
          "height": 599
        },
        "id": "-dkbMrgTxIX_",
        "outputId": "8963d333-fcbf-4c29-fc0f-6c99d69dc88b"
      },
      "execution_count": 16,
      "outputs": [
        {
          "output_type": "display_data",
          "data": {
            "text/plain": [
              "<Figure size 1000x700 with 1 Axes>"
            ],
            "image/png": "[encoded data removed]"
          },
          "metadata": {}
        }
      ]
    },
    {
      "cell_type": "markdown",
      "source": [
        "#**38-42.Creating our first Pytorch model**"
      ],
      "metadata": {
        "id": "eTSoMCQayZ_w"
      }
    },
    {
      "cell_type": "code",
      "source": [
        "class LinearRegressionModel(nn.Module):\n",
        "  def __init__(self):\n",
        "    super().__init__()\n",
        "\n",
        "    self.weights = nn.Parameter(torch.randn(1,\n",
        "                                               requires_grad= True,\n",
        "                                               dtype = torch.float))\n",
        "    self.bias = nn.Parameter(torch.randn(1,\n",
        "                                          requires_grad = True,\n",
        "                                          dtype = torch.float))\n",
        "\n",
        "  def forward(self, x: torch.Tensor) -> torch.Tensor:\n",
        "    return self.weights * x + self.bias\n"
      ],
      "metadata": {
        "id": "1E8G_V5zye69"
      },
      "execution_count": 17,
      "outputs": []
    },
    {
      "cell_type": "markdown",
      "source": [
        "Checking the contents of a PyTorch model"
      ],
      "metadata": {
        "id": "csNFcFzDz5YN"
      }
    },
    {
      "cell_type": "code",
      "source": [
        "# Set manual seed since nn.Parameter are randomly initialzied\n",
        "torch.manual_seed(42)\n",
        "\n",
        "# Create an instance of the model (this is a subclass of nn.Module that contains nn.Parameter(s))\n",
        "model_0 = LinearRegressionModel()\n",
        "\n",
        "# Check the nn.Parameter(s) within the nn.Module subclass we created\n",
        "list(model_0.parameters())"
      ],
      "metadata": {
        "colab": {
          "base_uri": "https://localhost:8080/"
        },
        "id": "tfOKG9G73in6",
        "outputId": "687aa9af-f193-4da6-9b66-30f7d7792905"
      },
      "execution_count": 18,
      "outputs": [
        {
          "output_type": "execute_result",
          "data": {
            "text/plain": [
              "[Parameter containing:\n",
              " tensor([0.3367], requires_grad=True),\n",
              " Parameter containing:\n",
              " tensor([0.1288], requires_grad=True)]"
            ]
          },
          "metadata": {},
          "execution_count": 18
        }
      ]
    },
    {
      "cell_type": "code",
      "source": [
        "# List named parameters\n",
        "model_0.state_dict()"
      ],
      "metadata": {
        "colab": {
          "base_uri": "https://localhost:8080/"
        },
        "id": "wMpU9j164Fft",
        "outputId": "0e89b45a-2465-466a-8c54-b13629eeb8a9"
      },
      "execution_count": 19,
      "outputs": [
        {
          "output_type": "execute_result",
          "data": {
            "text/plain": [
              "OrderedDict([('weights', tensor([0.3367])), ('bias', tensor([0.1288]))])"
            ]
          },
          "metadata": {},
          "execution_count": 19
        }
      ]
    },
    {
      "cell_type": "markdown",
      "source": [
        "Making predictions with **torch.inference_mode()**"
      ],
      "metadata": {
        "id": "IW3AX0DnG_74"
      }
    },
    {
      "cell_type": "code",
      "source": [
        "with torch.inference_mode():\n",
        "  y_preds = model_0(X_test)\n",
        "\n",
        "y_preds\n"
      ],
      "metadata": {
        "colab": {
          "base_uri": "https://localhost:8080/"
        },
        "id": "Wjt7E0rQHKjp",
        "outputId": "10b165bb-8a4c-4b41-cb54-340ad599163e"
      },
      "execution_count": 20,
      "outputs": [
        {
          "output_type": "execute_result",
          "data": {
            "text/plain": [
              "tensor([[0.3982],\n",
              "        [0.4049],\n",
              "        [0.4116],\n",
              "        [0.4184],\n",
              "        [0.4251],\n",
              "        [0.4318],\n",
              "        [0.4386],\n",
              "        [0.4453],\n",
              "        [0.4520],\n",
              "        [0.4588]])"
            ]
          },
          "metadata": {},
          "execution_count": 20
        }
      ]
    },
    {
      "cell_type": "code",
      "source": [
        "y_test"
      ],
      "metadata": {
        "colab": {
          "base_uri": "https://localhost:8080/"
        },
        "id": "PJsJUn5AIi-N",
        "outputId": "08ce3c67-94b2-4418-c3bb-b35314d09a6e"
      },
      "execution_count": 21,
      "outputs": [
        {
          "output_type": "execute_result",
          "data": {
            "text/plain": [
              "tensor([[0.8600],\n",
              "        [0.8740],\n",
              "        [0.8880],\n",
              "        [0.9020],\n",
              "        [0.9160],\n",
              "        [0.9300],\n",
              "        [0.9440],\n",
              "        [0.9580],\n",
              "        [0.9720],\n",
              "        [0.9860]])"
            ]
          },
          "metadata": {},
          "execution_count": 21
        }
      ]
    },
    {
      "cell_type": "code",
      "source": [
        "plot_predictions(predictions = y_preds)"
      ],
      "metadata": {
        "colab": {
          "base_uri": "https://localhost:8080/",
          "height": 599
        },
        "id": "eIVyJq0DIm7e",
        "outputId": "26aec923-d6b2-4e71-b10e-4c061ac4f16d"
      },
      "execution_count": 22,
      "outputs": [
        {
          "output_type": "display_data",
          "data": {
            "text/plain": [
              "<Figure size 1000x700 with 1 Axes>"
            ],
            "image/png": "[encoded data removed]"
          },
          "metadata": {}
        }
      ]
    },
    {
      "cell_type": "markdown",
      "source": [
        "#**43-50. Training & Testing a model**"
      ],
      "metadata": {
        "id": "upZzsifAJzP2"
      }
    },
    {
      "cell_type": "markdown",
      "source": [
        "Before even training we need to understand how far away our model is from being right when predicting, to calculate that we use a **loss function**, and to \"get closer\" we use an **optimizer**"
      ],
      "metadata": {
        "id": "l-73_z7EKAnl"
      }
    },
    {
      "cell_type": "code",
      "source": [
        "loss_fn = nn.L1Loss()\n",
        "\n",
        "\n",
        "optimizer = torch.optim.SGD(params = model_0.parameters(),\n",
        "                            lr = 0.01)\n"
      ],
      "metadata": {
        "id": "39DPlEc0LQm1"
      },
      "execution_count": 23,
      "outputs": []
    },
    {
      "cell_type": "markdown",
      "source": [
        "Training and testing loop"
      ],
      "metadata": {
        "id": "J9QJJtDUNM--"
      }
    },
    {
      "cell_type": "code",
      "source": [
        "list(model_0.parameters())"
      ],
      "metadata": {
        "colab": {
          "base_uri": "https://localhost:8080/"
        },
        "id": "ELWTc-RmN1jy",
        "outputId": "deaff43b-b62f-4012-dc12-4d83e1e1f945"
      },
      "execution_count": 24,
      "outputs": [
        {
          "output_type": "execute_result",
          "data": {
            "text/plain": [
              "[Parameter containing:\n",
              " tensor([0.3367], requires_grad=True),\n",
              " Parameter containing:\n",
              " tensor([0.1288], requires_grad=True)]"
            ]
          },
          "metadata": {},
          "execution_count": 24
        }
      ]
    },
    {
      "cell_type": "code",
      "source": [
        "torch.manual_seed(42)\n",
        "epochs = 200\n",
        "\n",
        "#Tracking crucial values\n",
        "\n",
        "epoch_count = []\n",
        "loss_values = []\n",
        "test_loss_values = []\n",
        "for epoch in range(epochs):\n",
        "  model_0.train()\n",
        "\n",
        "  y_pred = model_0(X_train)\n",
        "\n",
        "  loss = loss_fn(y_pred,y_train)\n",
        "\n",
        "\n",
        "  optimizer.zero_grad() # with each iteration we need to clear the value of the grad, if not we will accumulate errors.\n",
        "\n",
        "  loss.backward()\n",
        "\n",
        "  optimizer.step()\n",
        "\n",
        "  model_0.eval()  #turns off settings not needed for testing\n",
        "  with torch.inference_mode(): # gradient turned off´\n",
        "    test_pred = model_0(X_test)\n",
        "\n",
        "    test_loss = loss_fn(test_pred, y_test)\n",
        "\n",
        "  if epoch % 10 == 0:\n",
        "    epoch_count.append(epoch)\n",
        "    loss_values.append(loss)\n",
        "    test_loss_values.append(test_loss)\n",
        "    print(f\"Epoch: {epoch}  | Loss: {loss}  | Test loss: {test_loss}\")\n",
        "    print(model_0.state_dict())  #Remember:  weights = 0.7 and bias = 0.3\n"
      ],
      "metadata": {
        "colab": {
          "base_uri": "https://localhost:8080/"
        },
        "id": "SSiomYnqNSVX",
        "outputId": "025501fa-f178-4c67-90d8-4bd67bda7a6b"
      },
      "execution_count": 25,
      "outputs": [
        {
          "output_type": "stream",
          "name": "stdout",
          "text": [
            "Epoch: 0  | Loss: 0.31288138031959534  | Test loss: 0.48106518387794495\n",
            "OrderedDict([('weights', tensor([0.3406])), ('bias', tensor([0.1388]))])\n",
            "Epoch: 10  | Loss: 0.1976713240146637  | Test loss: 0.3463551998138428\n",
            "OrderedDict([('weights', tensor([0.3796])), ('bias', tensor([0.2388]))])\n",
            "Epoch: 20  | Loss: 0.08908725529909134  | Test loss: 0.21729660034179688\n",
            "OrderedDict([('weights', tensor([0.4184])), ('bias', tensor([0.3333]))])\n",
            "Epoch: 30  | Loss: 0.053148526698350906  | Test loss: 0.14464017748832703\n",
            "OrderedDict([('weights', tensor([0.4512])), ('bias', tensor([0.3768]))])\n",
            "Epoch: 40  | Loss: 0.04543796554207802  | Test loss: 0.11360953003168106\n",
            "OrderedDict([('weights', tensor([0.4748])), ('bias', tensor([0.3868]))])\n",
            "Epoch: 50  | Loss: 0.04167863354086876  | Test loss: 0.09919948130846024\n",
            "OrderedDict([('weights', tensor([0.4938])), ('bias', tensor([0.3843]))])\n",
            "Epoch: 60  | Loss: 0.03818932920694351  | Test loss: 0.08886633068323135\n",
            "OrderedDict([('weights', tensor([0.5116])), ('bias', tensor([0.3788]))])\n",
            "Epoch: 70  | Loss: 0.03476089984178543  | Test loss: 0.0805937647819519\n",
            "OrderedDict([('weights', tensor([0.5288])), ('bias', tensor([0.3718]))])\n",
            "Epoch: 80  | Loss: 0.03132382780313492  | Test loss: 0.07232122868299484\n",
            "OrderedDict([('weights', tensor([0.5459])), ('bias', tensor([0.3648]))])\n",
            "Epoch: 90  | Loss: 0.02788739837706089  | Test loss: 0.06473556160926819\n",
            "OrderedDict([('weights', tensor([0.5629])), ('bias', tensor([0.3573]))])\n",
            "Epoch: 100  | Loss: 0.024458957836031914  | Test loss: 0.05646304413676262\n",
            "OrderedDict([('weights', tensor([0.5800])), ('bias', tensor([0.3503]))])\n",
            "Epoch: 110  | Loss: 0.021020207554101944  | Test loss: 0.04819049686193466\n",
            "OrderedDict([('weights', tensor([0.5972])), ('bias', tensor([0.3433]))])\n",
            "Epoch: 120  | Loss: 0.01758546568453312  | Test loss: 0.04060482233762741\n",
            "OrderedDict([('weights', tensor([0.6141])), ('bias', tensor([0.3358]))])\n",
            "Epoch: 130  | Loss: 0.014155393466353416  | Test loss: 0.03233227878808975\n",
            "OrderedDict([('weights', tensor([0.6313])), ('bias', tensor([0.3288]))])\n",
            "Epoch: 140  | Loss: 0.010716589167714119  | Test loss: 0.024059748277068138\n",
            "OrderedDict([('weights', tensor([0.6485])), ('bias', tensor([0.3218]))])\n",
            "Epoch: 150  | Loss: 0.0072835334576666355  | Test loss: 0.016474086791276932\n",
            "OrderedDict([('weights', tensor([0.6654])), ('bias', tensor([0.3143]))])\n",
            "Epoch: 160  | Loss: 0.0038517764769494534  | Test loss: 0.008201557211577892\n",
            "OrderedDict([('weights', tensor([0.6826])), ('bias', tensor([0.3073]))])\n",
            "Epoch: 170  | Loss: 0.008932482451200485  | Test loss: 0.005023092031478882\n",
            "OrderedDict([('weights', tensor([0.6951])), ('bias', tensor([0.2993]))])\n",
            "Epoch: 180  | Loss: 0.008932482451200485  | Test loss: 0.005023092031478882\n",
            "OrderedDict([('weights', tensor([0.6951])), ('bias', tensor([0.2993]))])\n",
            "Epoch: 190  | Loss: 0.008932482451200485  | Test loss: 0.005023092031478882\n",
            "OrderedDict([('weights', tensor([0.6951])), ('bias', tensor([0.2993]))])\n"
          ]
        }
      ]
    },
    {
      "cell_type": "code",
      "source": [
        "import numpy as np\n",
        "\n",
        "#Plot the loss curves\n",
        "plt.plot(epoch_count,np.array(torch.tensor(loss_values).numpy()), label = \"Train loss\")\n",
        "plt.plot(epoch_count, np.array(torch.tensor(test_loss_values).numpy()), label = \"Test loss\")\n",
        "plt.title(\"Training & testing loss curves\")\n",
        "plt.ylabel(\"Loss\")\n",
        "plt.xlabel(\"Epochs\")\n",
        "plt.legend();"
      ],
      "metadata": {
        "colab": {
          "base_uri": "https://localhost:8080/",
          "height": 472
        },
        "id": "0EKYGesgaJii",
        "outputId": "4f18674b-f357-4da2-ad48-dffb42534f5b"
      },
      "execution_count": 26,
      "outputs": [
        {
          "output_type": "display_data",
          "data": {
            "text/plain": [
              "<Figure size 640x480 with 1 Axes>"
            ],
            "image/png": "[encoded data removed]"
          },
          "metadata": {}
        }
      ]
    },
    {
      "cell_type": "code",
      "source": [
        "print(model_0.state_dict())\n",
        "print(loss)"
      ],
      "metadata": {
        "colab": {
          "base_uri": "https://localhost:8080/"
        },
        "id": "6qQPKE7USlR2",
        "outputId": "1030ecb7-0668-4bce-879a-0d7cd899cba0"
      },
      "execution_count": 27,
      "outputs": [
        {
          "output_type": "stream",
          "name": "stdout",
          "text": [
            "OrderedDict([('weights', tensor([0.6990])), ('bias', tensor([0.3093]))])\n",
            "tensor(0.0026, grad_fn=<MeanBackward0>)\n"
          ]
        }
      ]
    },
    {
      "cell_type": "code",
      "source": [
        "with torch.inference_mode():\n",
        "  y_preds_new = model_0(X_test)"
      ],
      "metadata": {
        "id": "9d_7mQH8THJS"
      },
      "execution_count": 28,
      "outputs": []
    },
    {
      "cell_type": "code",
      "source": [
        "plot_predictions(predictions = y_preds_new)"
      ],
      "metadata": {
        "colab": {
          "base_uri": "https://localhost:8080/",
          "height": 599
        },
        "id": "j3YL2HwqS5yF",
        "outputId": "2940f0dd-6cd7-4eb1-a860-bb0fd033209e"
      },
      "execution_count": 29,
      "outputs": [
        {
          "output_type": "display_data",
          "data": {
            "text/plain": [
              "<Figure size 1000x700 with 1 Axes>"
            ],
            "image/png": "[encoded data removed]"
          },
          "metadata": {}
        }
      ]
    },
    {
      "cell_type": "markdown",
      "source": [
        "#**51-54 Saving and loading a model**"
      ],
      "metadata": {
        "id": "MhsKhsp3b5oR"
      }
    },
    {
      "cell_type": "markdown",
      "source": [
        "3 methods to save/load a model, we will just go over the most popular one"
      ],
      "metadata": {
        "id": "AYiUbs1acBNo"
      }
    },
    {
      "cell_type": "code",
      "source": [
        "from pathlib import Path\n",
        "\n",
        "# 1.Create models directory\n",
        "\n",
        "MODEL_PATH = Path(\"models\")\n",
        "MODEL_PATH.mkdir(parents = True, exist_ok = True)\n",
        "\n",
        "# 2.Create model save path\n",
        "\n",
        "MODEL_NAME = \"Chapter1_my_first_model.pth\"\n",
        "MODEL_SAVE_PATH = MODEL_PATH / MODEL_NAME\n",
        "\n",
        "# 3. Saving models state_dict()\n",
        "\n",
        "torch.save(obj= model_0.state_dict(),\n",
        "           f = MODEL_SAVE_PATH)\n"
      ],
      "metadata": {
        "id": "tTmNDh9pcjSU"
      },
      "execution_count": 30,
      "outputs": []
    },
    {
      "cell_type": "code",
      "source": [
        "# To load\n",
        "\n",
        "loaded_model_0 = LinearRegressionModel()\n",
        "\n",
        "loaded_model_0.load_state_dict(torch.load(f = MODEL_SAVE_PATH))\n"
      ],
      "metadata": {
        "colab": {
          "base_uri": "https://localhost:8080/"
        },
        "id": "FWngtYcsesl2",
        "outputId": "7961459f-669a-4de8-e3b7-d5d876e518a8"
      },
      "execution_count": 31,
      "outputs": [
        {
          "output_type": "execute_result",
          "data": {
            "text/plain": [
              "<All keys matched successfully>"
            ]
          },
          "metadata": {},
          "execution_count": 31
        }
      ]
    },
    {
      "cell_type": "code",
      "source": [
        "loaded_model_0.state_dict()"
      ],
      "metadata": {
        "colab": {
          "base_uri": "https://localhost:8080/"
        },
        "id": "2ZFxhjtzfi_o",
        "outputId": "792c1434-b41e-4665-d752-d072b4950369"
      },
      "execution_count": 32,
      "outputs": [
        {
          "output_type": "execute_result",
          "data": {
            "text/plain": [
              "OrderedDict([('weights', tensor([0.6990])), ('bias', tensor([0.3093]))])"
            ]
          },
          "metadata": {},
          "execution_count": 32
        }
      ]
    }
  ]
}